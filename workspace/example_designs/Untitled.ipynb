{
 "cells": [
  {
   "cell_type": "code",
   "execution_count": 4,
   "id": "9a9c9157-5794-4bb6-a98f-0668eeb45abc",
   "metadata": {},
   "outputs": [
    {
     "name": "stdout",
     "output_type": "stream",
     "text": [
      "/bin/bash: line 1: cd: timeloop/: No such file or directory\n",
      "python3: can't open file '/home/workspace/example_designs/run_example.py': [Errno 2] No such file or directory\n"
     ]
    }
   ],
   "source": [
    "!cd timeloop/\n",
    "!python3 run_example.py 00"
   ]
  },
  {
   "cell_type": "code",
   "execution_count": null,
   "id": "c54cbdb1-f3eb-49eb-a260-a0f0255b8f8f",
   "metadata": {},
   "outputs": [],
   "source": []
  }
 ],
 "metadata": {
  "kernelspec": {
   "display_name": "Python 3 (ipykernel)",
   "language": "python",
   "name": "python3"
  },
  "language_info": {
   "codemirror_mode": {
    "name": "ipython",
    "version": 3
   },
   "file_extension": ".py",
   "mimetype": "text/x-python",
   "name": "python",
   "nbconvert_exporter": "python",
   "pygments_lexer": "ipython3",
   "version": "3.10.12"
  }
 },
 "nbformat": 4,
 "nbformat_minor": 5
}
